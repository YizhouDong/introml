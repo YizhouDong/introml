{
 "cells": [
  {
   "cell_type": "code",
   "execution_count": 15,
   "metadata": {
    "collapsed": true
   },
   "outputs": [],
   "source": [
    "import pandas as pd\n",
    "import numpy as np\n",
    "import matplotlib\n",
    "import matplotlib.pyplot as plt"
   ]
  },
  {
   "cell_type": "code",
   "execution_count": 16,
   "metadata": {
    "collapsed": true
   },
   "outputs": [],
   "source": [
    "names = [\n",
    "    't',                                  # Time (secs)\n",
    "    'q1', 'q2', 'q3',                     # Joint angle   (rads)\n",
    "    'dq1', 'dq2', 'dq3',                  # Joint velocity (rads/sec)\n",
    "    'I1', 'I2', 'I3',                     # Motor current (A)\n",
    "    'eps21', 'eps22', 'eps31', 'eps32',   # Strain gauge measurements ($\\mu$m /m )\n",
    "    'ddq1', 'ddq2', 'ddq3'                # Joint accelerations (rad/sec^2)\n",
    "]\n",
    "\n",
    "df = pd.read_csv('https://raw.githubusercontent.com/sdrangan/introml/b823872a'+\n",
    "                 '6b17f2bc01e513a3a788f5060a8cacbf/mult_lin_reg/exp1.csv',\n",
    "                 names = names,na_values = '?',header = None)"
   ]
  },
  {
   "cell_type": "code",
   "execution_count": 17,
   "metadata": {},
   "outputs": [
    {
     "name": "stdout",
     "output_type": "stream",
     "text": [
      "      t        q1      q2      q3           dq1            dq2           dq3  \\\n",
      "0  0.00 -0.000007  2.4958 -1.1345 -7.882100e-21 -4.940656e-321  3.913100e-29   \n",
      "1  0.01 -0.000007  2.4958 -1.1345 -2.258200e-21 -4.940656e-321  2.626200e-31   \n",
      "2  0.02 -0.000007  2.4958 -1.1345 -6.469800e-22 -4.940656e-321  1.762500e-33   \n",
      "3  0.03 -0.000007  2.4958 -1.1345 -1.853600e-22 -4.940656e-321  1.182800e-35   \n",
      "4  0.04 -0.000007  2.4958 -1.1345 -5.310600e-23 -4.940656e-321 -5.270900e-03   \n",
      "5  0.05 -0.000007  2.4958 -1.1345 -1.521500e-23 -4.940656e-321  3.252600e-04   \n",
      "\n",
      "         I1       I2       I3   eps21   eps22   eps31    eps32          ddq1  \\\n",
      "0 -0.081623 -0.40812 -0.30609 -269.25 -113.20  3.5918  1.57860 -9.904900e-19   \n",
      "1 -0.037411 -0.37241 -0.26698 -270.91 -116.05  1.4585 -1.73980  4.248100e-19   \n",
      "2 -0.066319 -0.40302 -0.31459 -269.25 -112.97  3.5918  0.86753  3.233800e-19   \n",
      "3 -0.068020 -0.43703 -0.28398 -269.97 -114.39  1.6956 -0.08059  1.500500e-19   \n",
      "4 -0.052715 -0.40472 -0.30779 -269.97 -114.15  3.1177  0.86753  5.932400e-20   \n",
      "5 -0.088425 -0.42342 -0.29589 -269.25 -114.15  2.4066 -0.08059  2.164600e-20   \n",
      "\n",
      "            ddq2          ddq3  \n",
      "0 -6.210306e-319  4.917400e-27  \n",
      "1 -1.766878e-319 -1.381100e-27  \n",
      "2 -4.990557e-320 -4.117300e-28  \n",
      "3 -1.394253e-320 -1.173100e-28  \n",
      "4 -3.581976e-321 -3.770800e-01  \n",
      "5 -1.141292e-321  2.930300e-01  \n"
     ]
    }
   ],
   "source": [
    "print(df.head(6))"
   ]
  },
  {
   "cell_type": "code",
   "execution_count": 18,
   "metadata": {
    "collapsed": true
   },
   "outputs": [],
   "source": [
    "t = np.array(df['t'])\n",
    "y = np.array(df['I2'])\n",
    "plt.figure(1)\n",
    "plt.scatter(t,y)\n",
    "plt.xlabel('time(secs)')\n",
    "plt.ylabel('current in the scond joint')\n",
    "plt.grid(True)"
   ]
  },
  {
   "cell_type": "code",
   "execution_count": 19,
   "metadata": {
    "collapsed": true
   },
   "outputs": [],
   "source": [
    "ytrain = y\n",
    "Xtrain = np.array(df[['q2','dq2','eps21','eps22','eps31','eps32','ddq2']])"
   ]
  },
  {
   "cell_type": "code",
   "execution_count": 20,
   "metadata": {
    "collapsed": true
   },
   "outputs": [],
   "source": [
    "from sklearn import linear_model\n",
    "regr = linear_model.LinearRegression()"
   ]
  },
  {
   "cell_type": "code",
   "execution_count": 21,
   "metadata": {},
   "outputs": [
    {
     "data": {
      "text/plain": [
       "LinearRegression(copy_X=True, fit_intercept=True, n_jobs=1, normalize=False)"
      ]
     },
     "execution_count": 21,
     "metadata": {},
     "output_type": "execute_result"
    }
   ],
   "source": [
    "regr.fit(Xtrain,ytrain)"
   ]
  },
  {
   "cell_type": "code",
   "execution_count": 22,
   "metadata": {},
   "outputs": [
    {
     "data": {
      "text/plain": [
       "<matplotlib.legend.Legend at 0x27958977f98>"
      ]
     },
     "execution_count": 22,
     "metadata": {},
     "output_type": "execute_result"
    }
   ],
   "source": [
    "ytrain_predict = regr.predict(Xtrain)\n",
    "plt.figure(2)\n",
    "plt.scatter(ytrain,ytrain_predict,label = 'current data')\n",
    "plt.grid()\n",
    "plt.xlabel('actual current(train data)')\n",
    "plt.ylabel('predicted current')\n",
    "plt.plot([-1.2,1.2],[-1.2,1.2],'y',linewidth = 3,label = 'linear model')\n",
    "plt.legend()"
   ]
  },
  {
   "cell_type": "code",
   "execution_count": 23,
   "metadata": {},
   "outputs": [
    {
     "name": "stdout",
     "output_type": "stream",
     "text": [
      "The RSS of training data is 0.096 \n"
     ]
    }
   ],
   "source": [
    "RSS_tr = np.mean((ytrain_predict-ytrain)**2/(np.std(ytrain)**2))\n",
    "print(\"The RSS of training data is {0:4.3f} \".format(RSS_tr))"
   ]
  },
  {
   "cell_type": "code",
   "execution_count": 26,
   "metadata": {},
   "outputs": [
    {
     "data": {
      "text/plain": [
       "<matplotlib.legend.Legend at 0x2795891c668>"
      ]
     },
     "execution_count": 26,
     "metadata": {},
     "output_type": "execute_result"
    }
   ],
   "source": [
    "t_test = np.array([df_test['t']])\n",
    "x_test = np.array(df_test[['q2','dq2','eps21', 'eps22', 'eps31', 'eps32','ddq2']])\n",
    "y_test = np.array(df_test['I2'])\n",
    "y_test_predict = regr.predict(x_test)\n",
    "df_test = pd.read_csv('https://raw.githubusercontent.com/sdrangan/introml/d20a19e'+\n",
    "                  '4d18f858935fd8940b814a56f85bcbc39/mult_lin_reg/exp2.csv',\n",
    "                  names = names,na_values = '?',header = None)\n",
    "plt.figure(3)\n",
    "plt.scatter(y_test,y_test_predict,label='current data')\n",
    "plt.xlabel('actual current(test data)')\n",
    "plt.ylabel('predicted current')\n",
    "plt.grid(True)\n",
    "\n",
    "plt.plot([-1.2,1.2],[-1.2,1.2],'y',linewidth = 3,label = 'linear model')\n",
    "plt.legend()"
   ]
  },
  {
   "cell_type": "code",
   "execution_count": 27,
   "metadata": {},
   "outputs": [
    {
     "name": "stdout",
     "output_type": "stream",
     "text": [
      "RSS_train = 0.096, RSS_test = 0.127\n",
      "The normalized RSS of test data is substaintially higher than that of training data.\n"
     ]
    }
   ],
   "source": [
    "RSS_test = np.mean((y_test_predict-y_test)**2)/(np.std(y_test)**2)\n",
    "\n",
    "print(\"RSS_train = {0:4.3f}, RSS_test = {1:4.3f}\".format(RSS_tr, RSS_test))\n",
    "print(\"The normalized RSS of test data is substaintially higher \"+\n",
    "      \"than that of training data.\")"
   ]
  }
 ],
 "metadata": {
  "kernelspec": {
   "display_name": "Python 3",
   "language": "python",
   "name": "python3"
  },
  "language_info": {
   "codemirror_mode": {
    "name": "ipython",
    "version": 3
   },
   "file_extension": ".py",
   "mimetype": "text/x-python",
   "name": "python",
   "nbconvert_exporter": "python",
   "pygments_lexer": "ipython3",
   "version": "3.6.1"
  }
 },
 "nbformat": 4,
 "nbformat_minor": 2
}
