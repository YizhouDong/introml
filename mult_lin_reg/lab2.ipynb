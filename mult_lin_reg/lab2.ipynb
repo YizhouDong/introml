# -*- coding: utf-8 -*-
"""
Created on Thu Sep  7 13:08:15 2017

@author: Yizhou Dong
"""

#Load and Visualize the Data
import pandas as pd
import numpy as np
import matplotlib
import matplotlib.pyplot as plt

names = [
    't',                                  # Time (secs)
    'q1', 'q2', 'q3',                     # Joint angle   (rads)
    'dq1', 'dq2', 'dq3',                  # Joint velocity (rads/sec)
    'I1', 'I2', 'I3',                     # Motor current (A)
    'eps21', 'eps22', 'eps31', 'eps32',   # Strain gauge measurements ($\mu$m /m )
    'ddq1', 'ddq2', 'ddq3'                # Joint accelerations (rad/sec^2)
]

df = pd.read_csv('https://raw.githubusercontent.com/sdrangan/introml/b823872a'+
                 '6b17f2bc01e513a3a788f5060a8cacbf/mult_lin_reg/exp1.csv',
                 names = names,na_values = '?',header = None)
print(df.head(6)) #print first 6 rows

t = np.array(df['t'])
y = np.array(df['I2'])
plt.figure(1)
plt.scatter(t,y)
plt.xlabel('time(secs)')
plt.ylabel('current in the scond joint')
plt.grid(True)

#Fit a Linear Model
from sklearn import linear_model
regr = linear_model.LinearRegression()
ytrain = y
Xtrain = np.array(df[['q2','dq2','eps21','eps22','eps31','eps32','ddq2']])
regr.fit(Xtrain,ytrain)
#print(regr.coef_)

ytrain_predict = regr.predict(Xtrain)
plt.figure(2)
plt.scatter(ytrain,ytrain_predict,label = 'current data')
plt.grid()
plt.xlabel('actual current(train data)')
plt.ylabel('predicted current')
plt.plot([-1.2,1.2],[-1.2,1.2],'y',linewidth = 3,label = 'linear model')
plt.legend()

RSS_tr = np.mean((ytrain_predict-ytrain)**2/(np.std(ytrain)**2))
print("The RSS of training data is {0:4.3f} ".format(RSS_tr))

#Measure the Fit on an Indepdent Dataset
df_test = pd.read_csv('https://raw.githubusercontent.com/sdrangan/introml/d20a19e'+
                  '4d18f858935fd8940b814a56f85bcbc39/mult_lin_reg/exp2.csv',
                  names = names,na_values = '?',header = None)

t_test = np.array([df_test['t']])
x_test = np.array(df_test[['q2','dq2','eps21', 'eps22', 'eps31', 'eps32','ddq2']])
y_test = np.array(df_test['I2'])
y_test_predict = regr.predict(x_test)

plt.figure(3)
plt.scatter(y_test,y_test_predict,label='current data')
plt.xlabel('actual current(test data)')
plt.ylabel('predicted current')
plt.grid(True)

plt.plot([-1.2,1.2],[-1.2,1.2],'y',linewidth = 3,label = 'linear model')
plt.legend()

RSS_test = np.mean((y_test_predict-y_test)**2)/(np.std(y_test)**2)

print("RSS_train = {0:4.3f}, RSS_test = {1:4.3f}".format(RSS_tr, RSS_test))
print("The normalized RSS of test data is substaintially higher "+
      "than that of training data.")

























